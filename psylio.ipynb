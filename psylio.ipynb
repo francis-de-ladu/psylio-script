{
 "cells": [
  {
   "cell_type": "code",
   "execution_count": null,
   "metadata": {},
   "outputs": [],
   "source": [
    "import json\n",
    "import requests\n",
    "import pandas as pd\n",
    "from bs4 import BeautifulSoup\n",
    "import re\n",
    "\n",
    "from collections import defaultdict\n",
    "from itertools import tee\n",
    "from datetime import datetime\n",
    "from base64 import b64encode"
   ]
  },
  {
   "cell_type": "code",
   "execution_count": null,
   "metadata": {},
   "outputs": [],
   "source": [
    "base_url = 'https://admin.psylio.com/assistance-requests'\n",
    "\n",
    "email = 'email@provider.com'\n",
    "password = 'your_password_here'"
   ]
  },
  {
   "cell_type": "code",
   "execution_count": null,
   "metadata": {},
   "outputs": [],
   "source": [
    "cookies = {\n",
    "    'assistance-requests-order': 'eyJpdiI6IklMb2ZpeW1scWxqVzJXb0VoRUptYXc9PSIsInZhbHVlIjoidzFpWWRuQ2tPT2E0TlZjZW42SXpMZz09IiwibWFjIjoiNjc2NjA0NWQwMjgyODQ2MzNmMjdiNmMzYWJhZmIzYjJiZjEwMjM3YWMwY2E1MGFjZTZkNmNjMDY5ZGVmMTYxYyJ9',\n",
    "    'assistance-requests-direction': 'eyJpdiI6IlVmWXgzK3B2YVp5c01wZ0UySVwvU3VBPT0iLCJ2YWx1ZSI6ImVYZUt4R21IVkdWbUFNenRPbmFKSlE9PSIsIm1hYyI6IjJjOTc3ZTQyMTNlZGU3ZjMzZTE0ZTQwZTcxODA0MDkwNjkwNDNmNTljMWYxYWNhZDkzMjQ2NDgyYzMzOWFjMjcifQ%3D%3D',\n",
    "    'XSRF-TOKEN': 'eyJpdiI6InJmNG9LWjhtbE9lWnh3RVA0RW1EdWc9PSIsInZhbHVlIjoiUGtPbFdGeXFrS2t5OXMyaTZ1djBqc3ZkRE5yWDlLTEpjeWNkemM3b2JQWmNVMkMxWjE0K0lwa3d1Q25zUHNVViIsIm1hYyI6ImQ1YTIyZTc2MTMxYTg5NWMwMzJmODQyYzhkMDBjOTFlNzhhMzU2MGVlZWEyZjE5MDgwNWQ0YmM4ZTUxN2M0NDYifQ%3D%3D',\n",
    "    'epsylio_admin_session': 'eyJpdiI6IkJ0MEh3NzBCU2sxd21hb1VcL0E0MjZRPT0iLCJ2YWx1ZSI6IlNha2dqREpUXC9kekNRcU5VMEdCT0dHRGxYREtCREZTaDdENXBvTUtVdTVLVG5ucTlQMml0UWdvU0VOTWRka2w0IiwibWFjIjoiYjNjYjVlOTFjN2UwYWYzMjIzZjUxNzBhZjhlMWE1MzliMzNmZWU0YmRlNzI5NTg0OTJlNWI4MWFhYTJlMTFlOSJ9',\n",
    "}\n",
    "\n",
    "headers = {\n",
    "    'cookie': '; '.join([f'{k}={v}' for k, v in cookies.items()]),\n",
    "}"
   ]
  },
  {
   "cell_type": "code",
   "execution_count": null,
   "metadata": {},
   "outputs": [],
   "source": [
    "def open_html(template, filename='tmp.html'):\n",
    "    import webbrowser\n",
    "    import os\n",
    "  \n",
    "    with open(filename, 'wb') as f:\n",
    "        # writing the code into the file\n",
    "        f.write(template)\n",
    "      \n",
    "    # 1st method how to open html files in chrome using\n",
    "    filename = f'file:///{os.getcwd()}/{filename}'\n",
    "    webbrowser.open_new_tab(filename)"
   ]
  },
  {
   "cell_type": "code",
   "execution_count": null,
   "metadata": {},
   "outputs": [],
   "source": [
    "def login(headers,\n",
    "          url='https://admin.psylio.com/login',\n",
    "          email='email@provider.com',\n",
    "          password='your_password_here'):\n",
    "\n",
    "    payload = {\n",
    "        '_token': '5zppYCK0LnxhlY6JvCRGgHXjFpp6X5rkh7qbKVn1',\n",
    "        'login': {\n",
    "            'email': email,\n",
    "            'password': password,\n",
    "            'account': 'ca',\n",
    "        },\n",
    "    }\n",
    "   \n",
    "    resp = requests.post(url, headers=headers, data=payload)\n",
    "    assert resp.status_code == 200, 'Login failed :('\n",
    "    \n",
    "\n",
    "\n",
    "print('Attempting login...', end=' ')\n",
    "login(headers)\n",
    "print('Login successful!')"
   ]
  },
  {
   "cell_type": "code",
   "execution_count": null,
   "metadata": {},
   "outputs": [],
   "source": [
    "def get_records(headers):\n",
    "    url = 'https://admin.psylio.com/assistance-requests'\n",
    "    resp = requests.get(url, headers=headers)\n",
    "    \n",
    "    soup = BeautifulSoup(resp.content, 'html.parser')\n",
    "    tbody = soup.find('table').tbody\n",
    "    \n",
    "    client_ids = []\n",
    "    for row in tbody.find_all('tr'):\n",
    "        cells = row.find_all('td')\n",
    "        cid = cells[1].a.get('href').split('/')[4]\n",
    "        client_ids.append(cid)\n",
    "    \n",
    "    records_df = pd.read_html(resp.text)[0]\n",
    "    records_df.drop(columns=['Unnamed: 4'], inplace=True)\n",
    "    records_df['client_id'] = client_ids\n",
    "    \n",
    "    return records_df"
   ]
  },
  {
   "cell_type": "code",
   "execution_count": null,
   "metadata": {},
   "outputs": [],
   "source": [
    "records_df = get_records(headers)\n",
    "records_df.head()"
   ]
  },
  {
   "cell_type": "code",
   "execution_count": null,
   "metadata": {},
   "outputs": [],
   "source": [
    "def create_invoice(headers, client_id):\n",
    "    url = f'{base_url}/{client_id}/invoices/create'\n",
    "    resp = requests.get(url, headers=headers)\n",
    "    soup = BeautifulSoup(resp.content, 'html.parser')\n",
    "    forms = soup.find_all('form')\n",
    "\n",
    "    payload = {}\n",
    "\n",
    "    for field in forms[1].find_all('input'):\n",
    "        field_name, field_value = field.get('name'), field.get('value', '')\n",
    "        if field_name is not None:\n",
    "            add_to_payload(payload, field_name, field_value)\n",
    "\n",
    "    for field in forms[1].find_all('textarea'):\n",
    "        field_name, field_value = field.get('name'), field.get_text()\n",
    "        add_to_payload(payload, field_name, field_value)\n",
    "\n",
    "    payload['institution'] = {'id': ''}\n",
    "    payload['paymentDate'] = str(datetime.today()).split()[0]\n",
    "    payload['paymentTypes'] = ','.join(['debit_transfer'])\n",
    "    payload['items']['0'].update({\n",
    "        'service': 'Suivi client',\n",
    "        'price_per_unit': payload['items']['0']['price_per_unit'].replace(',', '.'),\n",
    "    })\n",
    "    \n",
    "    new_headers = headers.copy()\n",
    "    new_headers['Content-Type'] = 'application/json'\n",
    "\n",
    "    resp = requests.post(invoice_url, headers=new_headers, data=json.dumps(payload))\n",
    "    print(resp.status_code)\n",
    "\n",
    "    open_html(resp.content)\n",
    "\n",
    "        \n",
    "def add_to_payload(payload, field_name, field_value, pattern=r'(\\[|\\]|\\]\\[])'):\n",
    "    keys = re.sub(pattern, ' ', field_name).split()\n",
    "    if len(keys) == 1:\n",
    "        payload[field_name] = field_value\n",
    "    else:\n",
    "        current = payload\n",
    "        for k1, k2 in pairwise(keys):\n",
    "            if k1 in current:\n",
    "                current = current[k1]\n",
    "            else:\n",
    "                current[k1] = {}\n",
    "                current = current[k1]\n",
    "\n",
    "        current[k2] = field_value\n",
    "    \n",
    "    \n",
    "def pairwise(iterable):\n",
    "    # pairwise('ABCDEFG') --> AB BC CD DE EF FG\n",
    "    a, b = tee(iterable)\n",
    "    next(b, None)\n",
    "    return zip(a, b)"
   ]
  },
  {
   "cell_type": "code",
   "execution_count": null,
   "metadata": {},
   "outputs": [],
   "source": [
    "create_invoice(headers, records_df.loc[0]['client_id'])"
   ]
  },
  {
   "cell_type": "code",
   "execution_count": null,
   "metadata": {},
   "outputs": [],
   "source": [
    "def get_receipts(headers, client_id):\n",
    "    url = f'{base_url}/{client_id}/invoices?state=paid'\n",
    "    resp = requests.get(url, headers=headers)\n",
    "    \n",
    "    soup = BeautifulSoup(resp.content, 'html.parser')\n",
    "    tbody = soup.find('table').tbody\n",
    "    \n",
    "    receipt_ids = []\n",
    "    for row in tbody.find_all('tr'):\n",
    "        cells = row.find_all('td')\n",
    "        rid = cells[0].a.get('href').split('/')[6]\n",
    "        receipt_ids.append(rid)\n",
    "    \n",
    "    receipts_df = pd.read_html(resp.text)[0]\n",
    "    receipts_df.drop(columns=['Actions'], inplace=True)\n",
    "    receipts_df['receipt_id'] = receipt_ids\n",
    "    \n",
    "    return receipts_df"
   ]
  },
  {
   "cell_type": "code",
   "execution_count": null,
   "metadata": {},
   "outputs": [],
   "source": [
    "client_id = records_df.loc[0]['client_id']\n",
    "receipts_df = get_receipts(headers, client_id)\n",
    "receipts_df.head()"
   ]
  },
  {
   "cell_type": "code",
   "execution_count": null,
   "metadata": {},
   "outputs": [],
   "source": [
    "def send_receipt(headers, client_id, receipt_id):\n",
    "    url = f'{base_url}/{client_id}/invoices/{receipt_id}'\n",
    "    resp = requests.get(url, headers=headers)"
   ]
  }
 ],
 "metadata": {
  "kernelspec": {
   "display_name": "Python 3",
   "language": "python",
   "name": "python3"
  },
  "language_info": {
   "codemirror_mode": {
    "name": "ipython",
    "version": 3
   },
   "file_extension": ".py",
   "mimetype": "text/x-python",
   "name": "python",
   "nbconvert_exporter": "python",
   "pygments_lexer": "ipython3",
   "version": "3.8.10"
  }
 },
 "nbformat": 4,
 "nbformat_minor": 4
}
